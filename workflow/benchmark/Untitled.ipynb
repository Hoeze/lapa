{
 "cells": [
  {
   "cell_type": "code",
   "execution_count": 1,
   "id": "cc7f8728",
   "metadata": {},
   "outputs": [],
   "source": [
    "import os\n",
    "\n",
    "try:\n",
    "    snakemake\n",
    "except NameError:\n",
    "    from snakemk_util import load_rule_args\n",
    "    \n",
    "    os.chdir('../..')\n",
    "    \n",
    "    snakemake = load_rule_args(\n",
    "        snakefile = os.getcwd() + \"/workflow/Snakefile\",\n",
    "        rule_name = 'benchmark_lapa',\n",
    "        root = '..',\n",
    "    )"
   ]
  },
  {
   "cell_type": "code",
   "execution_count": 9,
   "id": "92c209be",
   "metadata": {},
   "outputs": [
    {
     "ename": "OSError",
     "evalue": "[Errno 116] Stale file handle: '/data/homezvol2/mcelik/Projects/lapa/data/results/lapa/gm12878/long_rna_lapa'",
     "output_type": "error",
     "traceback": [
      "\u001b[0;31m---------------------------------------------------------------------------\u001b[0m",
      "\u001b[0;31mOSError\u001b[0m                                   Traceback (most recent call last)",
      "\u001b[0;32m/tmp/ipykernel_69816/2158764981.py\u001b[0m in \u001b[0;36m<module>\u001b[0;34m\u001b[0m\n\u001b[1;32m      2\u001b[0m \u001b[0;34m\u001b[0m\u001b[0m\n\u001b[1;32m      3\u001b[0m \u001b[0;34m\u001b[0m\u001b[0m\n\u001b[0;32m----> 4\u001b[0;31m \u001b[0mos\u001b[0m\u001b[0;34m.\u001b[0m\u001b[0mlistdir\u001b[0m\u001b[0;34m(\u001b[0m\u001b[0msnakemake\u001b[0m\u001b[0;34m.\u001b[0m\u001b[0minput\u001b[0m\u001b[0;34m[\u001b[0m\u001b[0;34m'long_rna_gm12'\u001b[0m\u001b[0;34m]\u001b[0m\u001b[0;34m)\u001b[0m\u001b[0;34m\u001b[0m\u001b[0;34m\u001b[0m\u001b[0m\n\u001b[0m",
      "\u001b[0;31mOSError\u001b[0m: [Errno 116] Stale file handle: '/data/homezvol2/mcelik/Projects/lapa/data/results/lapa/gm12878/long_rna_lapa'"
     ]
    }
   ],
   "source": [
    "import os\n",
    "\n",
    "\n",
    "os.listdir(snakemake.input['long_rna_gm12'])"
   ]
  },
  {
   "cell_type": "code",
   "execution_count": 5,
   "id": "0e4bdae4",
   "metadata": {},
   "outputs": [
    {
     "data": {
      "text/plain": [
       "'/data/homezvol2/mcelik/Projects/lapa/data/results/lapa/gm12878/long_rna_lapa'"
      ]
     },
     "execution_count": 5,
     "metadata": {},
     "output_type": "execute_result"
    }
   ],
   "source": [
    "snakemake.input['long_rna_gm12']"
   ]
  },
  {
   "cell_type": "code",
   "execution_count": 8,
   "id": "c3ce9567",
   "metadata": {},
   "outputs": [
    {
     "name": "stdout",
     "output_type": "stream",
     "text": [
      "ls: cannot access data/results/lapa/gm12878/long_rna_lapa: Stale file handle\r\n"
     ]
    }
   ],
   "source": [
    "! ls data/results/lapa/gm12878/long_rna_lapa"
   ]
  },
  {
   "cell_type": "code",
   "execution_count": null,
   "id": "28d2cba7",
   "metadata": {},
   "outputs": [],
   "source": []
  }
 ],
 "metadata": {
  "kernelspec": {
   "display_name": "Python 3 (ipykernel)",
   "language": "python",
   "name": "python3"
  },
  "language_info": {
   "codemirror_mode": {
    "name": "ipython",
    "version": 3
   },
   "file_extension": ".py",
   "mimetype": "text/x-python",
   "name": "python",
   "nbconvert_exporter": "python",
   "pygments_lexer": "ipython3",
   "version": "3.7.10"
  }
 },
 "nbformat": 4,
 "nbformat_minor": 5
}
